{
 "cells": [
  {
   "cell_type": "markdown",
   "metadata": {},
   "source": [
    "Python DataFrame Filling choices: \n",
    "    1. append\n",
    "    2. update\n",
    "    3. set_value\n",
    "\n",
    "This Notebook compares the three methods using timeit.timeit function. "
   ]
  },
  {
   "cell_type": "code",
   "execution_count": 1,
   "metadata": {
    "collapsed": false
   },
   "outputs": [
    {
     "name": "stderr",
     "output_type": "stream",
     "text": [
      "C:\\Users\\TianYuSimon\\Anaconda3\\lib\\site-packages\\pandas\\computation\\__init__.py:19: UserWarning: The installed version of numexpr 2.4.4 is not supported in pandas and will be not be used\n",
      "\n",
      "  UserWarning)\n"
     ]
    }
   ],
   "source": [
    "import pandas as pd\n",
    "import datetime\n",
    "import timeit"
   ]
  },
  {
   "cell_type": "code",
   "execution_count": 7,
   "metadata": {
    "collapsed": false
   },
   "outputs": [
    {
     "data": {
      "text/plain": [
       "15.897420258961006"
      ]
     },
     "execution_count": 7,
     "metadata": {},
     "output_type": "execute_result"
    }
   ],
   "source": [
    "#Use append \n",
    "pd_index=pd.DatetimeIndex(start=datetime.datetime(2016,10,1),end=datetime.datetime(2016,10,1),freq='1D')\n",
    "df=pd.DataFrame(columns=['data'])\n",
    "df_1=pd.DataFrame(data={'data':1231},index=pd_index)\n",
    "\n",
    "def wrapper(func, *args, **kwargs):\n",
    "    def wrapped():\n",
    "        return func(*args, **kwargs)\n",
    "    return wrapped\n",
    "\n",
    "def app(df,df1):\n",
    "    for i in range(0,100,1):\n",
    "        df=df.append(df_1)\n",
    "        \n",
    "\n",
    "wrapped = wrapper(app, df,df_1)\n",
    "timeit.timeit(wrapped,number=100)\n"
   ]
  },
  {
   "cell_type": "code",
   "execution_count": 8,
   "metadata": {
    "collapsed": false
   },
   "outputs": [
    {
     "data": {
      "text/plain": [
       "0.21142389073108347"
      ]
     },
     "execution_count": 8,
     "metadata": {},
     "output_type": "execute_result"
    }
   ],
   "source": [
    "# Use set value\n",
    "pd_index=pd.DatetimeIndex(start=datetime.datetime(2016,10,1),end=datetime.datetime(2016,10,2),freq='1T')\n",
    "df=pd.DataFrame(columns=['data'],index=pd_index)\n",
    "\n",
    "def wrapper(func, *args, **kwargs):\n",
    "    def wrapped():\n",
    "        return func(*args, **kwargs)\n",
    "    return wrapped\n",
    "\n",
    "def app(df):\n",
    "    for i in range(0,100,1):\n",
    "        df.set_value(pd_index[i],'data',1231)\n",
    "wrapped = wrapper(app, df)\n",
    "timeit.timeit(wrapped,number=100)\n"
   ]
  },
  {
   "cell_type": "code",
   "execution_count": 9,
   "metadata": {
    "collapsed": false
   },
   "outputs": [
    {
     "data": {
      "text/plain": [
       "15.572011684825526"
      ]
     },
     "execution_count": 9,
     "metadata": {},
     "output_type": "execute_result"
    }
   ],
   "source": [
    "# Use update value\n",
    "pd_index=pd.DatetimeIndex(start=datetime.datetime(2016,10,1),end=datetime.datetime(2016,10,2),freq='1T')\n",
    "df=pd.DataFrame(columns=['data'],index=pd_index)\n",
    "\n",
    "def wrapper(func, *args, **kwargs):\n",
    "    def wrapped():\n",
    "        return func(*args, **kwargs)\n",
    "    return wrapped\n",
    "\n",
    "def app(df):\n",
    "    for i in range(0,100,1):\n",
    "        df_1=pd.DataFrame(data={'data':1231},index=pd_index[:i])       \n",
    "        df.update(df_1)\n",
    "        \n",
    "wrapped = wrapper(app, df)\n",
    "\n",
    "timeit.timeit(wrapped,number=100)"
   ]
  },
  {
   "cell_type": "code",
   "execution_count": null,
   "metadata": {
    "collapsed": true
   },
   "outputs": [],
   "source": []
  }
 ],
 "metadata": {
  "kernelspec": {
   "display_name": "Python 3",
   "language": "python",
   "name": "python3"
  },
  "language_info": {
   "codemirror_mode": {
    "name": "ipython",
    "version": 3
   },
   "file_extension": ".py",
   "mimetype": "text/x-python",
   "name": "python",
   "nbconvert_exporter": "python",
   "pygments_lexer": "ipython3",
   "version": "3.4.4"
  }
 },
 "nbformat": 4,
 "nbformat_minor": 0
}
